{
 "cells": [
  {
   "cell_type": "markdown",
   "metadata": {},
   "source": [
    "![ine-divider](https://user-images.githubusercontent.com/7065401/92672068-398e8080-f2ee-11ea-82d6-ad53f7feb5c0.png)\n",
    "<hr>\n",
    "\n",
    "### GitHub and Version Control\n",
    "# Practicing Collaboration and Issues\n",
    "\n",
    "This project will have somewhat unusual requirements among INE data science courses.  Most such projects ask you to complete cells in a notebook such as this.  However, this project will predominantly involve working at the command line.\n",
    "\n",
    "There *does* exist a bash kernel for Jupyter, which this notebook is saved as. To install it execute in your terminal:\n",
    "\n",
    "```\n",
    "pip install bash_kernel\n",
    "python -m bash_kernel.install\n",
    "```\n",
    "\n",
    "and restart your Notebook.\n",
    "\n",
    "However, the kinds of interactivity you have at a shell are much more flexible than in a notebook.  However, you *can* run bash commands if you install that Jupyter kernel. E.g.:"
   ]
  },
  {
   "cell_type": "code",
   "execution_count": 1,
   "metadata": {},
   "outputs": [
    {
     "name": "stdout",
     "output_type": "stream",
     "text": [
      "git version 2.27.0\n"
     ]
    }
   ],
   "source": [
    "git --version"
   ]
  },
  {
   "cell_type": "markdown",
   "metadata": {},
   "source": [
    "![orange-divider](https://user-images.githubusercontent.com/7065401/92672455-187a5f80-f2ef-11ea-890c-40be9474f7b7.png)"
   ]
  },
  {
   "cell_type": "markdown",
   "metadata": {},
   "source": [
    "## Part 1\n",
    "\n",
    "**Create an Issue in a Source Repository**\n",
    "\n",
    "In the project for the prior lesson, you forked the repository at https://github.com/ine-rmotr-projects/Fractal and made modifications in your own repository.\n",
    "\n",
    "As well as the pull request you created back to the INE-Student version, file an Issue in that repository indicating what should be changed that your PR supports.  In the description of the prior project, you were asked to add a new fractal, so probably this Issue is a feature enhancement rather than a bug fix.  Tag it and describe it in an appropriate fashion.\n",
    "\n",
    "\n",
    "#### Notes on a solution\n",
    "\n",
    "When you click on the \"New Issue\" button in the origingal repository (i.e. not the forked version), be sure to give it a title and a description that matches the purpose. Consider whether you want to specify other details like Assignee, Labels, Project, but definitely pay attention to the Linked Pull Request which is an important part of GitHub workflow."
   ]
  },
  {
   "cell_type": "markdown",
   "metadata": {},
   "source": [
    "![orange-divider](https://user-images.githubusercontent.com/7065401/92672455-187a5f80-f2ef-11ea-890c-40be9474f7b7.png)\n",
    "\n",
    "## Part 2\n",
    "\n",
    "**Collaborators**\n",
    "\n",
    "Many times, forks are used to contribute back to an existing project.  However, at times you wish to take a codebase in a direction different from that envisioned by the original authors or current maintainers.  This possibility is one of the central virtues of open source.\n",
    "\n",
    "Let us assume that such is the case for your fork, and your new code.  As well as the changes you make, you should invite other collaborators to your forked repository.  Find friends or colleagues to invite, and give them appropriate permissions.  As a last recourse, you can invite *INE-Student* as a collaborator, but better is someone you know directly.\n",
    "\n",
    "\n",
    "#### Notes on a solution\n",
    "\n",
    "You want the Settings top menu, then the Manage Access side menu. Within that screen is a button for \"Invite Collaborator.\" GitHub is fairly good about looking up users based on the first few letters you enter, and seems to have some intelligence about listing ones you have interacted with earlier in the suggestions list.\n"
   ]
  },
  {
   "cell_type": "markdown",
   "metadata": {},
   "source": [
    "![orange-divider](https://user-images.githubusercontent.com/7065401/92672455-187a5f80-f2ef-11ea-890c-40be9474f7b7.png)"
   ]
  }
 ],
 "metadata": {
  "kernelspec": {
   "display_name": "Bash",
   "language": "bash",
   "name": "bash"
  },
  "language_info": {
   "codemirror_mode": "shell",
   "file_extension": ".sh",
   "mimetype": "text/x-sh",
   "name": "bash"
  }
 },
 "nbformat": 4,
 "nbformat_minor": 4
}
